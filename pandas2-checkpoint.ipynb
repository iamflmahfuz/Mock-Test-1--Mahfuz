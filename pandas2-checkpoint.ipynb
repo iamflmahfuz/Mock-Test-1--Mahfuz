{
 "cells": [
  {
   "cell_type": "code",
   "execution_count": 4,
   "id": "2712d833-2c09-4db4-bc2d-ed6331b37ffd",
   "metadata": {},
   "outputs": [
    {
     "data": {
      "text/html": [
       "<div>\n",
       "<style scoped>\n",
       "    .dataframe tbody tr th:only-of-type {\n",
       "        vertical-align: middle;\n",
       "    }\n",
       "\n",
       "    .dataframe tbody tr th {\n",
       "        vertical-align: top;\n",
       "    }\n",
       "\n",
       "    .dataframe thead th {\n",
       "        text-align: right;\n",
       "    }\n",
       "</style>\n",
       "<table border=\"1\" class=\"dataframe\">\n",
       "  <thead>\n",
       "    <tr style=\"text-align: right;\">\n",
       "      <th></th>\n",
       "      <th>Name</th>\n",
       "      <th>Color</th>\n",
       "      <th>Price</th>\n",
       "    </tr>\n",
       "  </thead>\n",
       "  <tbody>\n",
       "    <tr>\n",
       "      <th>0</th>\n",
       "      <td>Apple</td>\n",
       "      <td>Red</td>\n",
       "      <td>1.2</td>\n",
       "    </tr>\n",
       "    <tr>\n",
       "      <th>1</th>\n",
       "      <td>Banana</td>\n",
       "      <td>Yellow</td>\n",
       "      <td>0.5</td>\n",
       "    </tr>\n",
       "    <tr>\n",
       "      <th>2</th>\n",
       "      <td>Cherry</td>\n",
       "      <td>Red</td>\n",
       "      <td>1.5</td>\n",
       "    </tr>\n",
       "    <tr>\n",
       "      <th>3</th>\n",
       "      <td>Date</td>\n",
       "      <td>Brown</td>\n",
       "      <td>1.0</td>\n",
       "    </tr>\n",
       "  </tbody>\n",
       "</table>\n",
       "</div>"
      ],
      "text/plain": [
       "     Name   Color  Price\n",
       "0   Apple     Red    1.2\n",
       "1  Banana  Yellow    0.5\n",
       "2  Cherry     Red    1.5\n",
       "3    Date   Brown    1.0"
      ]
     },
     "execution_count": 4,
     "metadata": {},
     "output_type": "execute_result"
    }
   ],
   "source": [
    "import pandas as pd\n",
    "\n",
    "# Create a simple DataFrame\n",
    "data = {\n",
    "  'Name': ['Apple', 'Banana', 'Cherry', 'Date'],\n",
    "  'Color': ['Red', 'Yellow', 'Red', 'Brown'],\n",
    "  'Price': [1.2, 0.5, 1.5, 1.0]\n",
    "}\n",
    "\n",
    "df = pd.DataFrame(data)\n",
    "df"
   ]
  },
  {
   "cell_type": "code",
   "execution_count": 5,
   "id": "6ffef6e9-2d36-4d7d-937a-8f75913751ea",
   "metadata": {},
   "outputs": [
    {
     "name": "stdout",
     "output_type": "stream",
     "text": [
      "     Name  Price\n",
      "0   Apple    1.2\n",
      "1  Banana    0.5\n",
      "2  Cherry    1.5\n",
      "3    Date    1.0\n"
     ]
    }
   ],
   "source": [
    "# Selecting 'Name' and 'Price' columns\n",
    "name_and_price = df[['Name', 'Price']]\n",
    "print(name_and_price)"
   ]
  },
  {
   "cell_type": "code",
   "execution_count": null,
   "id": "2a31c267-0aef-42ac-b813-effa1d81b46e",
   "metadata": {},
   "outputs": [],
   "source": []
  }
 ],
 "metadata": {
  "kernelspec": {
   "display_name": "Python 3 (ipykernel)",
   "language": "python",
   "name": "python3"
  },
  "language_info": {
   "codemirror_mode": {
    "name": "ipython",
    "version": 3
   },
   "file_extension": ".py",
   "mimetype": "text/x-python",
   "name": "python",
   "nbconvert_exporter": "python",
   "pygments_lexer": "ipython3",
   "version": "3.11.7"
  }
 },
 "nbformat": 4,
 "nbformat_minor": 5
}

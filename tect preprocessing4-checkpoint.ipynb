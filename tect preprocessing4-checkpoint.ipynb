{
 "cells": [
  {
   "cell_type": "code",
   "execution_count": 7,
   "id": "3296261f-d293-4e7e-a919-f0128dc6c215",
   "metadata": {},
   "outputs": [
    {
     "name": "stdout",
     "output_type": "stream",
     "text": [
      "Cleaned Text: Hello  Chekck my website  http   example com  It s awesome  excited  user  100 \n",
      "Tokenized Text: ['Hello', 'Chekck', 'my', 'website', 'http', 'example', 'com', 'It', 's', 'awesome', 'excited', 'user', '100']\n"
     ]
    },
    {
     "name": "stderr",
     "output_type": "stream",
     "text": [
      "[nltk_data] Downloading package punkt to C:\\Users\\Mahfuzur\n",
      "[nltk_data]     Rahman\\AppData\\Roaming\\nltk_data...\n",
      "[nltk_data]   Package punkt is already up-to-date!\n"
     ]
    }
   ],
   "source": [
    "import re\n",
    "import nltk\n",
    "from nltk.tokenize import word_tokenize\n",
    "nltk.download('punkt')\n",
    "text = \"Hello! Chekck my website: http://example.com, It's awesome:#excited @user $100.\"\n",
    "url_pattern = r\"http\\s+|www\\s+\"\n",
    "punctuation_pattern = r\"[^a-zA-Z0-9\\s]\"\n",
    "cleaned_text = re.sub(url_pattern, \" \" , text)\n",
    "cleaned_text = re.sub(punctuation_pattern, \" \", cleaned_text)\n",
    "tokens = word_tokenize(cleaned_text)\n",
    "print(\"Cleaned Text:\", cleaned_text)\n",
    "print(\"Tokenized Text:\", tokens)"
   ]
  },
  {
   "cell_type": "code",
   "execution_count": null,
   "id": "c929d2d9-2926-4d46-9c26-071b30dd49db",
   "metadata": {},
   "outputs": [],
   "source": []
  }
 ],
 "metadata": {
  "kernelspec": {
   "display_name": "Python 3 (ipykernel)",
   "language": "python",
   "name": "python3"
  },
  "language_info": {
   "codemirror_mode": {
    "name": "ipython",
    "version": 3
   },
   "file_extension": ".py",
   "mimetype": "text/x-python",
   "name": "python",
   "nbconvert_exporter": "python",
   "pygments_lexer": "ipython3",
   "version": "3.11.7"
  }
 },
 "nbformat": 4,
 "nbformat_minor": 5
}

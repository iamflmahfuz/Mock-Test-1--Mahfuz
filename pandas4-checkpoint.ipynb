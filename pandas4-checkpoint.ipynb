{
 "cells": [
  {
   "cell_type": "code",
   "execution_count": 9,
   "id": "4057c4a5-7e0a-45e7-a6f9-5d39242491f3",
   "metadata": {},
   "outputs": [
    {
     "name": "stdout",
     "output_type": "stream",
     "text": [
      "                   Flavor Base Flavor Liked  Flavor Rating  Texture Rating  \\\n",
      "0     Mint Chocolate Chip     Vanilla   Yes           10.0             8.0   \n",
      "1               Chocolate   Chocolate   Yes            8.8             7.6   \n",
      "2                 Vanilla     Vanilla    No            4.7             5.0   \n",
      "3            Cookie Dough     Vanilla   Yes            6.9             6.5   \n",
      "4              Rocky Road   Chocolate   Yes            8.2             7.0   \n",
      "5               Pistachio     Vanilla    No            2.3             3.4   \n",
      "6             Cake Batter     Vanilla   Yes            6.5             6.0   \n",
      "7              Neapolitan     Vanilla    No            3.8             5.0   \n",
      "8  Chocolte Fudge Brownie   Chocolate   Yes            8.2             7.1   \n",
      "\n",
      "   Total Rating  \n",
      "0          18.0  \n",
      "1          16.6  \n",
      "2           9.7  \n",
      "3          13.4  \n",
      "4          15.2  \n",
      "5           5.7  \n",
      "6          12.5  \n",
      "7           8.8  \n",
      "8          15.3  \n"
     ]
    }
   ],
   "source": [
    "import pandas as pd\n",
    "\n",
    "df = pd.read_csv(r\"C:\\Users\\Mahfuzur Rahman\\OneDrive\\Desktop\\Flavors.csv\")\n",
    "\n",
    "print(file) "
   ]
  },
  {
   "cell_type": "code",
   "execution_count": 18,
   "id": "dfcae251-ccf5-4a10-8edb-fd91d48e357d",
   "metadata": {},
   "outputs": [
    {
     "data": {
      "text/plain": [
       "<pandas.core.groupby.generic.DataFrameGroupBy object at 0x000001A03368DED0>"
      ]
     },
     "execution_count": 18,
     "metadata": {},
     "output_type": "execute_result"
    }
   ],
   "source": [
    "group_by_frame = df.groupby('Base Flavor')\n",
    "group_by_frame"
   ]
  },
  {
   "cell_type": "code",
   "execution_count": 22,
   "id": "df0ed1af-9e65-4c00-a6a0-0edd97ac7fe0",
   "metadata": {},
   "outputs": [
    {
     "data": {
      "text/html": [
       "<div>\n",
       "<style scoped>\n",
       "    .dataframe tbody tr th:only-of-type {\n",
       "        vertical-align: middle;\n",
       "    }\n",
       "\n",
       "    .dataframe tbody tr th {\n",
       "        vertical-align: top;\n",
       "    }\n",
       "\n",
       "    .dataframe thead th {\n",
       "        text-align: right;\n",
       "    }\n",
       "</style>\n",
       "<table border=\"1\" class=\"dataframe\">\n",
       "  <thead>\n",
       "    <tr style=\"text-align: right;\">\n",
       "      <th></th>\n",
       "      <th>Flavor</th>\n",
       "      <th>Liked</th>\n",
       "      <th>Flavor Rating</th>\n",
       "      <th>Texture Rating</th>\n",
       "      <th>Total Rating</th>\n",
       "    </tr>\n",
       "    <tr>\n",
       "      <th>Base Flavor</th>\n",
       "      <th></th>\n",
       "      <th></th>\n",
       "      <th></th>\n",
       "      <th></th>\n",
       "      <th></th>\n",
       "    </tr>\n",
       "  </thead>\n",
       "  <tbody>\n",
       "    <tr>\n",
       "      <th>Chocolate</th>\n",
       "      <td>Chocolate</td>\n",
       "      <td>Yes</td>\n",
       "      <td>8.2</td>\n",
       "      <td>7.0</td>\n",
       "      <td>15.2</td>\n",
       "    </tr>\n",
       "    <tr>\n",
       "      <th>Vanilla</th>\n",
       "      <td>Cake Batter</td>\n",
       "      <td>No</td>\n",
       "      <td>2.3</td>\n",
       "      <td>3.4</td>\n",
       "      <td>5.7</td>\n",
       "    </tr>\n",
       "  </tbody>\n",
       "</table>\n",
       "</div>"
      ],
      "text/plain": [
       "                  Flavor Liked  Flavor Rating  Texture Rating  Total Rating\n",
       "Base Flavor                                                                \n",
       "Chocolate      Chocolate   Yes            8.2             7.0          15.2\n",
       "Vanilla      Cake Batter    No            2.3             3.4           5.7"
      ]
     },
     "execution_count": 22,
     "metadata": {},
     "output_type": "execute_result"
    }
   ],
   "source": [
    "group_by_frame.min()\n"
   ]
  },
  {
   "cell_type": "code",
   "execution_count": null,
   "id": "8139e3fc-5134-48aa-8da7-52a8454709cd",
   "metadata": {},
   "outputs": [],
   "source": []
  }
 ],
 "metadata": {
  "kernelspec": {
   "display_name": "Python 3 (ipykernel)",
   "language": "python",
   "name": "python3"
  },
  "language_info": {
   "codemirror_mode": {
    "name": "ipython",
    "version": 3
   },
   "file_extension": ".py",
   "mimetype": "text/x-python",
   "name": "python",
   "nbconvert_exporter": "python",
   "pygments_lexer": "ipython3",
   "version": "3.11.7"
  }
 },
 "nbformat": 4,
 "nbformat_minor": 5
}

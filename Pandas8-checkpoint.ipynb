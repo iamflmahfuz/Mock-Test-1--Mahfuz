{
 "cells": [
  {
   "cell_type": "code",
   "execution_count": 1,
   "id": "9a870c64-e407-4066-b258-aa58842a8ddd",
   "metadata": {},
   "outputs": [
    {
     "name": "stdout",
     "output_type": "stream",
     "text": [
      "      Brand  Year  Kms Driven       City  Mileage\n",
      "0    Maruti  2012       50000    Gurgaon       28\n",
      "1   Hyundai  2014       30000      Delhi       27\n",
      "2      Tata  2011       60000     Mumbai       25\n",
      "3  Mahindra  2015       25000      Delhi       26\n",
      "4    Maruti  2012       10000     Mumbai       28\n",
      "5   Hyundai  2016       46000      Delhi       29\n",
      "6   Renault  2014       31000     Mumbai       24\n",
      "7      Tata  2018       15000    Chennai       21\n",
      "8    Maruti  2019       12000  Ghaziabad       24\n"
     ]
    }
   ],
   "source": [
    "import pandas as pd \n",
    "  \n",
    "# creating a sample dataframe \n",
    "data = pd.DataFrame({'Brand': ['Maruti', 'Hyundai', 'Tata', \n",
    "                               'Mahindra', 'Maruti', 'Hyundai', \n",
    "                               'Renault', 'Tata', 'Maruti'], \n",
    "                     'Year': [2012, 2014, 2011, 2015, 2012, \n",
    "                              2016, 2014, 2018, 2019], \n",
    "                     'Kms Driven': [50000, 30000, 60000, \n",
    "                                    25000, 10000, 46000, \n",
    "                                    31000, 15000, 12000], \n",
    "                     'City': ['Gurgaon', 'Delhi', 'Mumbai', \n",
    "                              'Delhi', 'Mumbai', 'Delhi', \n",
    "                              'Mumbai', 'Chennai',  'Ghaziabad'], \n",
    "                     'Mileage':  [28, 27, 25, 26, 28, \n",
    "                                  29, 24, 21, 24]}) \n",
    "print(data)"
   ]
  },
  {
   "cell_type": "markdown",
   "id": "7ef9978e-dffb-4753-a0f7-b04f0c0951a6",
   "metadata": {},
   "source": [
    "## Using loc"
   ]
  },
  {
   "cell_type": "code",
   "execution_count": 3,
   "id": "d19ca779-690f-41fd-a776-aaad575f4a37",
   "metadata": {},
   "outputs": [
    {
     "name": "stdout",
     "output_type": "stream",
     "text": [
      "    Brand  Year  Kms Driven     City  Mileage\n",
      "0  Maruti  2012       50000  Gurgaon       28\n",
      "4  Maruti  2012       10000   Mumbai       28\n"
     ]
    }
   ],
   "source": [
    "# selecting cars with brand 'Maruti' and Mileage > 25 \n",
    "print(data.loc[(data.Brand == 'Maruti') & (data.Mileage > 25)]) "
   ]
  },
  {
   "cell_type": "code",
   "execution_count": 5,
   "id": "3dceb612-305e-4138-acee-8755ebc8b77a",
   "metadata": {},
   "outputs": [
    {
     "data": {
      "text/html": [
       "<div>\n",
       "<style scoped>\n",
       "    .dataframe tbody tr th:only-of-type {\n",
       "        vertical-align: middle;\n",
       "    }\n",
       "\n",
       "    .dataframe tbody tr th {\n",
       "        vertical-align: top;\n",
       "    }\n",
       "\n",
       "    .dataframe thead th {\n",
       "        text-align: right;\n",
       "    }\n",
       "</style>\n",
       "<table border=\"1\" class=\"dataframe\">\n",
       "  <thead>\n",
       "    <tr style=\"text-align: right;\">\n",
       "      <th></th>\n",
       "      <th>Brand</th>\n",
       "      <th>Year</th>\n",
       "      <th>Kms Driven</th>\n",
       "      <th>City</th>\n",
       "      <th>Mileage</th>\n",
       "    </tr>\n",
       "  </thead>\n",
       "  <tbody>\n",
       "    <tr>\n",
       "      <th>2</th>\n",
       "      <td>Tata</td>\n",
       "      <td>2011</td>\n",
       "      <td>60000</td>\n",
       "      <td>Mumbai</td>\n",
       "      <td>25</td>\n",
       "    </tr>\n",
       "    <tr>\n",
       "      <th>3</th>\n",
       "      <td>Mahindra</td>\n",
       "      <td>2015</td>\n",
       "      <td>25000</td>\n",
       "      <td>Delhi</td>\n",
       "      <td>26</td>\n",
       "    </tr>\n",
       "    <tr>\n",
       "      <th>4</th>\n",
       "      <td>Maruti</td>\n",
       "      <td>2012</td>\n",
       "      <td>10000</td>\n",
       "      <td>Mumbai</td>\n",
       "      <td>28</td>\n",
       "    </tr>\n",
       "    <tr>\n",
       "      <th>5</th>\n",
       "      <td>Hyundai</td>\n",
       "      <td>2016</td>\n",
       "      <td>46000</td>\n",
       "      <td>Delhi</td>\n",
       "      <td>29</td>\n",
       "    </tr>\n",
       "  </tbody>\n",
       "</table>\n",
       "</div>"
      ],
      "text/plain": [
       "      Brand  Year  Kms Driven    City  Mileage\n",
       "2      Tata  2011       60000  Mumbai       25\n",
       "3  Mahindra  2015       25000   Delhi       26\n",
       "4    Maruti  2012       10000  Mumbai       28\n",
       "5   Hyundai  2016       46000   Delhi       29"
      ]
     },
     "metadata": {},
     "output_type": "display_data"
    }
   ],
   "source": [
    "# selecting range of rows from 2 to 5 \n",
    "display(data.loc[2: 5])"
   ]
  },
  {
   "cell_type": "markdown",
   "id": "35420f79-219c-4e89-98ec-ce3aa1e5cbe1",
   "metadata": {},
   "source": [
    "## using iloc"
   ]
  },
  {
   "cell_type": "code",
   "execution_count": 6,
   "id": "66e22353-90c5-4154-affe-b589addbafe7",
   "metadata": {},
   "outputs": [
    {
     "data": {
      "text/html": [
       "<div>\n",
       "<style scoped>\n",
       "    .dataframe tbody tr th:only-of-type {\n",
       "        vertical-align: middle;\n",
       "    }\n",
       "\n",
       "    .dataframe tbody tr th {\n",
       "        vertical-align: top;\n",
       "    }\n",
       "\n",
       "    .dataframe thead th {\n",
       "        text-align: right;\n",
       "    }\n",
       "</style>\n",
       "<table border=\"1\" class=\"dataframe\">\n",
       "  <thead>\n",
       "    <tr style=\"text-align: right;\">\n",
       "      <th></th>\n",
       "      <th>Brand</th>\n",
       "      <th>Year</th>\n",
       "      <th>Kms Driven</th>\n",
       "      <th>City</th>\n",
       "      <th>Mileage</th>\n",
       "    </tr>\n",
       "  </thead>\n",
       "  <tbody>\n",
       "    <tr>\n",
       "      <th>0</th>\n",
       "      <td>Maruti</td>\n",
       "      <td>2012</td>\n",
       "      <td>50000</td>\n",
       "      <td>Gurgaon</td>\n",
       "      <td>28</td>\n",
       "    </tr>\n",
       "    <tr>\n",
       "      <th>2</th>\n",
       "      <td>Tata</td>\n",
       "      <td>2011</td>\n",
       "      <td>60000</td>\n",
       "      <td>Mumbai</td>\n",
       "      <td>25</td>\n",
       "    </tr>\n",
       "    <tr>\n",
       "      <th>4</th>\n",
       "      <td>Maruti</td>\n",
       "      <td>2012</td>\n",
       "      <td>10000</td>\n",
       "      <td>Mumbai</td>\n",
       "      <td>28</td>\n",
       "    </tr>\n",
       "    <tr>\n",
       "      <th>7</th>\n",
       "      <td>Tata</td>\n",
       "      <td>2018</td>\n",
       "      <td>15000</td>\n",
       "      <td>Chennai</td>\n",
       "      <td>21</td>\n",
       "    </tr>\n",
       "  </tbody>\n",
       "</table>\n",
       "</div>"
      ],
      "text/plain": [
       "    Brand  Year  Kms Driven     City  Mileage\n",
       "0  Maruti  2012       50000  Gurgaon       28\n",
       "2    Tata  2011       60000   Mumbai       25\n",
       "4  Maruti  2012       10000   Mumbai       28\n",
       "7    Tata  2018       15000  Chennai       21"
      ]
     },
     "metadata": {},
     "output_type": "display_data"
    }
   ],
   "source": [
    "# selecting 0th, 2nd, 4th, and 7th index rows \n",
    "display(data.iloc[[0, 2, 4, 7]]) \n"
   ]
  },
  {
   "cell_type": "code",
   "execution_count": 4,
   "id": "5ae985b9-459f-48e4-98e7-7d30c495dca4",
   "metadata": {},
   "outputs": [
    {
     "name": "stdout",
     "output_type": "stream",
     "text": [
      "   Kms Driven    City  Mileage\n",
      "1       30000   Delhi       27\n",
      "2       60000  Mumbai       25\n",
      "3       25000   Delhi       26\n",
      "4       10000  Mumbai       28\n"
     ]
    }
   ],
   "source": [
    "# selecting rows from 1 to 4 and columns from 2 to 4 \n",
    "print(data.iloc[1: 5, 2: 5]) "
   ]
  }
 ],
 "metadata": {
  "kernelspec": {
   "display_name": "Python 3 (ipykernel)",
   "language": "python",
   "name": "python3"
  },
  "language_info": {
   "codemirror_mode": {
    "name": "ipython",
    "version": 3
   },
   "file_extension": ".py",
   "mimetype": "text/x-python",
   "name": "python",
   "nbconvert_exporter": "python",
   "pygments_lexer": "ipython3",
   "version": "3.11.7"
  }
 },
 "nbformat": 4,
 "nbformat_minor": 5
}
